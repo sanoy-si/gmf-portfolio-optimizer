{
 "cells": [
  {
   "cell_type": "code",
   "execution_count": null,
   "id": "fc986875",
   "metadata": {
    "vscode": {
     "languageId": "plaintext"
    }
   },
   "outputs": [],
   "source": [
    "%load_ext autoreload\n",
    "%autoreload 2\n",
    "\n",
    "import pandas as pd\n",
    "import numpy as np\n",
    "import matplotlib.pyplot as plt\n",
    "import seaborn as sns\n",
    "from sklearn.metrics import mean_absolute_error, mean_squared_error\n",
    "import joblib\n",
    "\n",
    "from src.data_ingestion import fetch_and_save_data\n",
    "from src.preprocessing import preprocess_data\n",
    "from src.modeling import train_auto_arima\n",
    "\n",
    "plt.style.use('seaborn-v0_8-whitegrid')\n",
    "sns.set_palette('colorblind')"
   ]
  },
  {
   "cell_type": "code",
   "execution_count": null,
   "id": "815af55b",
   "metadata": {
    "vscode": {
     "languageId": "plaintext"
    }
   },
   "outputs": [],
   "source": [
    "TICKERS = ['TSLA', 'BND', 'SPY']\n",
    "RAW_DATA_PATH = 'data/raw/financial_data.csv'\n",
    "raw_data = pd.read_csv(RAW_DATA_PATH, header=[0, 1], index_col=0, parse_dates=True)\n",
    "adj_close_prices = preprocess_data(raw_data)\n",
    "tsla_prices = adj_close_prices['TSLA']"
   ]
  },
  {
   "cell_type": "code",
   "execution_count": null,
   "id": "d0a362e4",
   "metadata": {
    "vscode": {
     "languageId": "plaintext"
    }
   },
   "outputs": [],
   "source": [
    "train_end = '2023-12-31'\n",
    "train_data = tsla_prices[:train_end]\n",
    "test_data = tsla_prices[train_end:]\n",
    "\n",
    "print(f\"Training data size: {len(train_data)}\")\n",
    "print(f\"Test data size: {len(test_data)}\")\n",
    "\n",
    "plt.figure(figsize=(12, 6))\n",
    "train_data.plot(label='Training Data')\n",
    "test_data.plot(label='Test Data')\n",
    "plt.title('TSLA Price - Train/Test Split')\n",
    "plt.legend()\n",
    "plt.show()"
   ]
  },
  {
   "cell_type": "code",
   "execution_count": null,
   "id": "4482c263",
   "metadata": {
    "vscode": {
     "languageId": "plaintext"
    }
   },
   "outputs": [],
   "source": [
    "arima_model = train_auto_arima(train_data)"
   ]
  },
  {
   "cell_type": "code",
   "execution_count": null,
   "id": "82f21ea5",
   "metadata": {
    "vscode": {
     "languageId": "plaintext"
    }
   },
   "outputs": [],
   "source": [
    "MODEL_PATH_ARIMA = 'models/arima_model.pkl'\n",
    "joblib.dump(arima_model, MODEL_PATH_ARIMA)\n",
    "print(f\"ARIMA model saved to {MODEL_PATH_ARIMA}\")"
   ]
  },
  {
   "cell_type": "code",
   "execution_count": null,
   "id": "39b8d8bd",
   "metadata": {
    "vscode": {
     "languageId": "plaintext"
    }
   },
   "outputs": [],
   "source": [
    "n_periods = len(test_data)\n",
    "arima_predictions, conf_int = arima_model.predict(n_periods=n_periods, return_conf_int=True)\n",
    "arima_predictions = pd.Series(arima_predictions, index=test_data.index)"
   ]
  },
  {
   "cell_type": "code",
   "execution_count": null,
   "id": "eeea0412",
   "metadata": {
    "vscode": {
     "languageId": "plaintext"
    }
   },
   "outputs": [],
   "source": [
    "mae_arima = mean_absolute_error(test_data, arima_predictions)\n",
    "rmse_arima = np.sqrt(mean_squared_error(test_data, arima_predictions))\n",
    "mape_arima = np.mean(np.abs((test_data - arima_predictions) / test_data)) * 100\n",
    "\n",
    "print(f\"ARIMA Model Performance on Test Set:\")\n",
    "print(f\"  Mean Absolute Error (MAE): ${mae_arima:.2f}\")\n",
    "print(f\"  Root Mean Squared Error (RMSE): ${rmse_arima:.2f}\")\n",
    "print(f\"  Mean Absolute Percentage Error (MAPE): {mape_arima:.2f}%\")\n",
    "\n",
    "# Save metrics for later comparison\n",
    "%store mae_arima\n",
    "%store rmse_arima\n",
    "%store mape_arima"
   ]
  },
  {
   "cell_type": "code",
   "execution_count": null,
   "id": "d6b50e15",
   "metadata": {
    "vscode": {
     "languageId": "plaintext"
    }
   },
   "outputs": [],
   "source": [
    "plt.figure(figsize=(14, 7))\n",
    "plt.plot(train_data, label='Training Data')\n",
    "plt.plot(test_data, label='Actual Test Data', color='orange')\n",
    "plt.plot(arima_predictions, label='ARIMA Forecast', color='green', linestyle='--')\n",
    "\n",
    "# Plot confidence intervals\n",
    "plt.fill_between(test_data.index,\n",
    "                 conf_int[:, 0],\n",
    "                 conf_int[:, 1],\n",
    "                 color='k', alpha=.15, label='Confidence Interval')\n",
    "\n",
    "plt.title('ARIMA Forecast vs. Actual TSLA Prices')\n",
    "plt.xlabel('Date')\n",
    "plt.ylabel('Price (USD)')\n",
    "plt.legend()\n",
    "plt.show()"
   ]
  }
 ],
 "metadata": {
  "language_info": {
   "name": "python"
  }
 },
 "nbformat": 4,
 "nbformat_minor": 5
}
