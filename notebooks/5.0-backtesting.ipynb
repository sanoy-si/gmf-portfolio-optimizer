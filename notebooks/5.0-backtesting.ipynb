{
 "cells": [
  {
   "cell_type": "code",
   "execution_count": null,
   "id": "6193ac83",
   "metadata": {
    "vscode": {
     "languageId": "plaintext"
    }
   },
   "outputs": [],
   "source": [
    "%load_ext autoreload\n",
    "%autoreload 2\n",
    "\n",
    "import pandas as pd\n",
    "import matplotlib.pyplot as plt\n",
    "import seaborn as sns\n",
    "\n",
    "from src.preprocessing import preprocess_data, calculate_daily_returns\n",
    "from src.backtesting import run_backtest, calculate_performance_metrics, plot_backtest_results\n",
    "\n",
    "plt.style.use('seaborn-v0_8-whitegrid')"
   ]
  },
  {
   "cell_type": "code",
   "execution_count": null,
   "id": "9238b262",
   "metadata": {
    "vscode": {
     "languageId": "plaintext"
    }
   },
   "outputs": [],
   "source": [
    "RAW_DATA_PATH = 'data/raw/financial_data.csv'\n",
    "raw_data = pd.read_csv(RAW_DATA_PATH, header=[0, 1], index_col=0, parse_dates=True)\n",
    "adj_close_prices = preprocess_data(raw_data)\n",
    "daily_returns = calculate_daily_returns(adj_close_prices)\n",
    "\n",
    "# Load the recommended weights from the previous notebook\n",
    "%store -r recommended_weights\n",
    "print(\"Loaded Recommended Strategy Weights:\")\n",
    "print(recommended_weights)"
   ]
  },
  {
   "cell_type": "code",
   "execution_count": null,
   "id": "52babec8",
   "metadata": {
    "vscode": {
     "languageId": "plaintext"
    }
   },
   "outputs": [],
   "source": [
    "backtest_start_date = '2024-08-01'\n",
    "backtest_end_date = '2025-07-31'\n",
    "backtest_returns = daily_returns.loc[backtest_start_date:backtest_end_date]\n",
    "\n",
    "# Define benchmark weights (60% SPY, 40% BND)\n",
    "benchmark_weights = {'SPY': 0.60, 'BND': 0.40, 'TSLA': 0.0}"
   ]
  },
  {
   "cell_type": "code",
   "execution_count": null,
   "id": "a82fb238",
   "metadata": {
    "vscode": {
     "languageId": "plaintext"
    }
   },
   "outputs": [],
   "source": [
    "backtest_results = run_backtest(backtest_returns, recommended_weights, benchmark_weights)\n",
    "\n",
    "print(\"\\nBacktest Results (Final Portfolio Value):\")\n",
    "print(backtest_results.iloc[-1])"
   ]
  },
  {
   "cell_type": "code",
   "execution_count": null,
   "id": "88195ebc",
   "metadata": {
    "vscode": {
     "languageId": "plaintext"
    }
   },
   "outputs": [],
   "source": [
    "FIGURE_PATH = 'reports/figures/backtest_performance.png'\n",
    "plot_backtest_results(backtest_results, save_path=FIGURE_PATH)"
   ]
  },
  {
   "cell_type": "code",
   "execution_count": null,
   "id": "bab756c6",
   "metadata": {
    "vscode": {
     "languageId": "plaintext"
    }
   },
   "outputs": [],
   "source": [
    "strategy_daily_returns = backtest_returns.dot(pd.Series(recommended_weights).reindex(backtest_returns.columns).fillna(0))\n",
    "benchmark_daily_returns = backtest_returns.dot(pd.Series(benchmark_weights).reindex(backtest_returns.columns).fillna(0))\n",
    "\n",
    "strategy_metrics = calculate_performance_metrics(backtest_results['Strategy'], strategy_daily_returns)\n",
    "benchmark_metrics = calculate_performance_metrics(backtest_results['Benchmark'], benchmark_daily_returns)\n",
    "\n",
    "performance_df = pd.DataFrame({\n",
    "    'Strategy': strategy_metrics,\n",
    "    'Benchmark (60/40)': benchmark_metrics\n",
    "})\n",
    "\n",
    "print(\"\\n--- Performance Metrics Comparison ---\")\n",
    "print(performance_df)"
   ]
  }
 ],
 "metadata": {
  "language_info": {
   "name": "python"
  }
 },
 "nbformat": 4,
 "nbformat_minor": 5
}
