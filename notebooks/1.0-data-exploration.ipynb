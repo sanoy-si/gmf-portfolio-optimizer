{
 "cells": [
  {
   "cell_type": "code",
   "execution_count": null,
   "id": "61eb7490",
   "metadata": {},
   "outputs": [],
   "source": [
    "%load_ext autoreload\n",
    "%autoreload 2\n",
    "\n",
    "import pandas as pd\n",
    "import matplotlib.pyplot as plt\n",
    "import seaborn as sns\n",
    "from src.data_ingestion import fetch_and_save_data\n",
    "from src.preprocessing import preprocess_data, calculate_daily_returns, check_stationarity\n",
    "\n",
    "# Style setup for plots\n",
    "plt.style.use('seaborn-v0_8-whitegrid')\n",
    "sns.set_palette('colorblind')"
   ]
  },
  {
   "cell_type": "code",
   "execution_count": null,
   "id": "e414e535",
   "metadata": {},
   "outputs": [],
   "source": [
    "TICKERS = ['TSLA', 'BND', 'SPY']\n",
    "START_DATE = '2015-07-01'\n",
    "END_DATE = '2025-07-31'\n",
    "RAW_DATA_PATH = 'data/raw/financial_data.csv'\n",
    "\n",
    "raw_data = fetch_and_save_data(TICKERS, START_DATE, END_DATE, RAW_DATA_PATH)\n",
    "print(raw_data.head())"
   ]
  },
  {
   "cell_type": "code",
   "execution_count": null,
   "id": "e30269eb",
   "metadata": {},
   "outputs": [],
   "source": [
    "adj_close_prices = preprocess_data(raw_data)\n",
    "print(\"\\nProcessed Adjusted Close Prices:\")\n",
    "print(adj_close_prices.head())"
   ]
  },
  {
   "cell_type": "code",
   "execution_count": null,
   "id": "e9461a4f",
   "metadata": {},
   "outputs": [],
   "source": [
    "adj_close_prices.plot(figsize=(14, 7), title='Historical Adjusted Close Prices (2015-2025)')\n",
    "plt.ylabel('Adjusted Close Price (USD)')\n",
    "plt.show()"
   ]
  },
  {
   "cell_type": "code",
   "execution_count": null,
   "id": "4d2b93d3",
   "metadata": {},
   "outputs": [],
   "source": [
    "daily_returns = calculate_daily_returns(adj_close_prices)\n",
    "print(\"\\nDaily Returns:\")\n",
    "print(daily_returns.head())\n",
    "\n",
    "daily_returns.plot(figsize=(14, 7), title='Daily Percentage Returns', subplots=True)\n",
    "plt.xlabel('Date')\n",
    "plt.show()"
   ]
  },
  {
   "cell_type": "code",
   "execution_count": null,
   "id": "ea4088b1",
   "metadata": {},
   "outputs": [],
   "source": [
    "rolling_volatility_60d = daily_returns['TSLA'].rolling(window=60).std() * (252**0.5) # Annualized\n",
    "\n",
    "plt.figure(figsize=(14, 7))\n",
    "rolling_volatility_60d.plot()\n",
    "plt.title('TSLA 60-Day Rolling Volatility (Annualized)')\n",
    "plt.ylabel('Annualized Volatility')\n",
    "plt.show()"
   ]
  },
  {
   "cell_type": "code",
   "execution_count": null,
   "id": "e66e307d",
   "metadata": {},
   "outputs": [],
   "source": [
    "check_stationarity(adj_close_prices['TSLA'], series_name=\"TSLA Adjusted Close Price\")\n",
    "check_stationarity(daily_returns['TSLA'], series_name=\"TSLA Daily Returns\")"
   ]
  },
  {
   "cell_type": "code",
   "execution_count": null,
   "id": "e6c48c85",
   "metadata": {},
   "outputs": [],
   "source": [
    "var_95 = daily_returns['TSLA'].quantile(0.05)\n",
    "print(f\"TSLA 1-Day 95% VaR: {var_95:.2%}\")\n",
    "sharpe_ratios = (daily_returns.mean() * 252) / (daily_returns.std() * (252**0.5))\n",
    "print(\"\\nHistorical Annualized Sharpe Ratios:\")\n",
    "print(sharpe_ratios)"
   ]
  }
 ],
 "metadata": {
  "language_info": {
   "name": "python"
  }
 },
 "nbformat": 4,
 "nbformat_minor": 5
}
