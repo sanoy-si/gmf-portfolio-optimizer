{
 "cells": [
  {
   "cell_type": "code",
   "execution_count": null,
   "id": "dee98e0b",
   "metadata": {
    "vscode": {
     "languageId": "plaintext"
    }
   },
   "outputs": [],
   "source": [
    "%load_ext autoreload\n",
    "%autoreload 2\n",
    "\n",
    "import pandas as pd\n",
    "import numpy as np\n",
    "import matplotlib.pyplot as plt\n",
    "import seaborn as sns\n",
    "import joblib\n",
    "\n",
    "from src.preprocessing import preprocess_data\n",
    "from src.optimization import calculate_optimization_inputs, optimize_portfolio, plot_efficient_frontier_and_portfolios\n",
    "\n",
    "# Style setup\n",
    "plt.style.use('seaborn-v0_8-whitegrid')"
   ]
  },
  {
   "cell_type": "code",
   "execution_count": null,
   "id": "b60cc717",
   "metadata": {
    "vscode": {
     "languageId": "plaintext"
    }
   },
   "outputs": [],
   "source": [
    "MODEL_PATH_ARIMA = 'models/arima_model.pkl'\n",
    "best_model = joblib.load(MODEL_PATH_ARIMA)\n",
    "\n",
    "RAW_DATA_PATH = 'data/raw/financial_data.csv'\n",
    "raw_data = pd.read_csv(RAW_DATA_PATH, header=[0, 1], index_col=0, parse_dates=True)\n",
    "adj_close_prices = preprocess_data(raw_data)"
   ]
  },
  {
   "cell_type": "code",
   "execution_count": null,
   "id": "a732d7a9",
   "metadata": {
    "vscode": {
     "languageId": "plaintext"
    }
   },
   "outputs": [],
   "source": [
    "print(\"Retraining ARIMA model on the full dataset...\")\n",
    "best_model.fit(adj_close_prices['TSLA'])\n",
    "\n",
    "# Forecast 12 months into the future (approx. 252 trading days)\n",
    "future_forecast_days = 252\n",
    "future_forecast, future_conf_int = best_model.predict(n_periods=future_forecast_days, return_conf_int=True)\n",
    "\n",
    "# Create a future date range\n",
    "future_dates = pd.date_range(start=adj_close_prices.index[-1] + pd.Timedelta(days=1), periods=future_forecast_days, freq='B')\n",
    "future_forecast = pd.Series(future_forecast, index=future_dates)"
   ]
  },
  {
   "cell_type": "code",
   "execution_count": null,
   "id": "bd2c4703",
   "metadata": {
    "vscode": {
     "languageId": "plaintext"
    }
   },
   "outputs": [],
   "source": [
    "plt.figure(figsize=(14, 7))\n",
    "plt.plot(adj_close_prices['TSLA'][-500:], label='Historical Price') # Plot last ~2 years\n",
    "plt.plot(future_forecast, label='12-Month Forecast', color='green', linestyle='--')\n",
    "plt.fill_between(future_dates, \n",
    "                 future_conf_int[:, 0], \n",
    "                 future_conf_int[:, 1], \n",
    "                 color='k', alpha=0.1, label='95% Confidence Interval')\n",
    "plt.title('TSLA 12-Month Price Forecast')\n",
    "plt.legend()\n",
    "plt.show()"
   ]
  }
 ],
 "metadata": {
  "language_info": {
   "name": "python"
  }
 },
 "nbformat": 4,
 "nbformat_minor": 5
}
