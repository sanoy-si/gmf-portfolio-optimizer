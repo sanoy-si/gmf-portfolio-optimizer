{
 "cells": [
  {
   "cell_type": "code",
   "execution_count": null,
   "id": "0aa35616",
   "metadata": {
    "vscode": {
     "languageId": "plaintext"
    }
   },
   "outputs": [],
   "source": [
    "%load_ext autoreload\n",
    "%autoreload 2\n",
    "\n",
    "import pandas as pd\n",
    "import numpy as np\n",
    "import matplotlib.pyplot as plt\n",
    "import seaborn as sns\n",
    "from sklearn.preprocessing import MinMaxScaler\n",
    "from sklearn.metrics import mean_absolute_error, mean_squared_error\n",
    "from tensorflow.keras.models import load_model\n",
    "\n",
    "# Import custom functions\n",
    "from src.preprocessing import preprocess_data\n",
    "from src.modeling import create_lstm_dataset, build_and_train_lstm\n",
    "\n",
    "# Style setup for plots\n",
    "plt.style.use('seaborn-v0_8-whitegrid')\n",
    "sns.set_palette('colorblind')"
   ]
  },
  {
   "cell_type": "code",
   "execution_count": null,
   "id": "ba377150",
   "metadata": {
    "vscode": {
     "languageId": "plaintext"
    }
   },
   "outputs": [],
   "source": [
    "RAW_DATA_PATH = 'data/raw/financial_data.csv'\n",
    "raw_data = pd.read_csv(RAW_DATA_PATH, header=[0, 1], index_col=0, parse_dates=True)\n",
    "adj_close_prices = preprocess_data(raw_data)\n",
    "tsla_prices = adj_close_prices['TSLA'].values.reshape(-1, 1)"
   ]
  },
  {
   "cell_type": "code",
   "execution_count": null,
   "id": "b4c1ec2e",
   "metadata": {
    "vscode": {
     "languageId": "plaintext"
    }
   },
   "outputs": [],
   "source": [
    "scaler = MinMaxScaler(feature_range=(0, 1))\n",
    "scaled_data = scaler.fit_transform(tsla_prices)\n",
    "\n",
    "training_size = int(len(scaled_data) * 0.85) # Use a slightly different split for demonstration\n",
    "train_data_scaled = scaled_data[:training_size]\n",
    "test_data_scaled = scaled_data[training_size - 60:] # Include overlap for first prediction"
   ]
  },
  {
   "cell_type": "code",
   "execution_count": null,
   "id": "622de204",
   "metadata": {
    "vscode": {
     "languageId": "plaintext"
    }
   },
   "outputs": [],
   "source": [
    "TIME_STEP = 60\n",
    "X_train, y_train = create_lstm_dataset(train_data_scaled, TIME_STEP)\n",
    "X_test, y_test = create_lstm_dataset(test_data_scaled, TIME_STEP)"
   ]
  },
  {
   "cell_type": "code",
   "execution_count": null,
   "id": "83ed3f32",
   "metadata": {
    "vscode": {
     "languageId": "plaintext"
    }
   },
   "outputs": [],
   "source": [
    "lstm_model = build_and_train_lstm(X_train, y_train, TIME_STEP)"
   ]
  },
  {
   "cell_type": "code",
   "execution_count": null,
   "id": "fa4b06c9",
   "metadata": {
    "vscode": {
     "languageId": "plaintext"
    }
   },
   "outputs": [],
   "source": [
    "MODEL_PATH_LSTM = 'models/lstm_model.h5'\n",
    "lstm_model.save(MODEL_PATH_LSTM)\n",
    "print(f\"LSTM model saved to {MODEL_PATH_LSTM}\")"
   ]
  },
  {
   "cell_type": "code",
   "execution_count": null,
   "id": "5cbbf542",
   "metadata": {
    "vscode": {
     "languageId": "plaintext"
    }
   },
   "outputs": [],
   "source": [
    "# Reshape test data for prediction\n",
    "X_test = X_test.reshape(X_test.shape[0], X_test.shape[1], 1)\n",
    "test_predict = lstm_model.predict(X_test)\n",
    "\n",
    "# Inverse transform predictions to get actual price values\n",
    "test_predict_unscaled = scaler.inverse_transform(test_predict)\n",
    "y_test_unscaled = scaler.inverse_transform(y_test.reshape(-1, 1))"
   ]
  },
  {
   "cell_type": "code",
   "execution_count": null,
   "id": "431aff12",
   "metadata": {
    "vscode": {
     "languageId": "plaintext"
    }
   },
   "outputs": [],
   "source": [
    "mae_lstm = mean_absolute_error(y_test_unscaled, test_predict_unscaled)\n",
    "rmse_lstm = np.sqrt(mean_squared_error(y_test_unscaled, test_predict_unscaled))\n",
    "mape_lstm = np.mean(np.abs((y_test_unscaled - test_predict_unscaled) / y_test_unscaled)) * 100\n",
    "\n",
    "print(f\"LSTM Model Performance on Test Set:\")\n",
    "print(f\"  Mean Absolute Error (MAE): ${mae_lstm:.2f}\")\n",
    "print(f\"  Root Mean Squared Error (RMSE): ${rmse_lstm:.2f}\")\n",
    "print(f\"  Mean Absolute Percentage Error (MAPE): {mape_lstm:.2f}%\")"
   ]
  },
  {
   "cell_type": "code",
   "execution_count": null,
   "id": "6de6b157",
   "metadata": {
    "vscode": {
     "languageId": "plaintext"
    }
   },
   "outputs": [],
   "source": [
    "# Create a DataFrame for plotting\n",
    "plot_df = pd.DataFrame(index=adj_close_prices.index)\n",
    "plot_df['Actual Price'] = adj_close_prices['TSLA'].values\n",
    "\n",
    "# Shift the test predictions to align them on the plot\n",
    "test_predict_plot = np.empty_like(scaled_data)\n",
    "test_predict_plot[:, :] = np.nan\n",
    "test_predict_plot[len(train_data_scaled) + 1 : len(scaled_data), :] = test_predict_unscaled\n",
    "\n",
    "plot_df['LSTM Predictions'] = test_predict_plot\n",
    "\n",
    "plt.figure(figsize=(14, 7))\n",
    "plt.plot(plot_df['Actual Price'], label='Actual Price')\n",
    "plt.plot(plot_df['LSTM Predictions'], label='LSTM Forecast', linestyle='--')\n",
    "plt.axvline(x=adj_close_prices.index[training_size], color='r', linestyle='--', label='Train-Test Split')\n",
    "plt.title('LSTM Forecast vs. Actual TSLA Prices')\n",
    "plt.legend()\n",
    "plt.show()"
   ]
  },
  {
   "cell_type": "code",
   "execution_count": null,
   "id": "7b825c75",
   "metadata": {
    "vscode": {
     "languageId": "plaintext"
    }
   },
   "outputs": [],
   "source": [
    "# Retrieve saved ARIMA metrics\n",
    "%store -r mae_arima\n",
    "%store -r rmse_arima\n",
    "%store -r mape_arima\n",
    "\n",
    "comparison_data = {\n",
    "    'Metric': ['MAE ($)', 'RMSE ($)', 'MAPE (%)'],\n",
    "    'ARIMA': [f'{mae_arima:.2f}', f'{rmse_arima:.2f}', f'{mape_arima:.2f}'],\n",
    "    'LSTM': [f'{mae_lstm:.2f}', f'{rmse_lstm:.2f}', f'{mape_lstm:.2f}']\n",
    "}\n",
    "comparison_df = pd.DataFrame(comparison_data)\n",
    "print(\"\\n--- Model Performance Comparison ---\")\n",
    "print(comparison_df)"
   ]
  },
  {
   "cell_type": "code",
   "execution_count": null,
   "id": "77507d1b",
   "metadata": {
    "vscode": {
     "languageId": "plaintext"
    }
   },
   "outputs": [],
   "source": []
  }
 ],
 "metadata": {
  "language_info": {
   "name": "python"
  }
 },
 "nbformat": 4,
 "nbformat_minor": 5
}
